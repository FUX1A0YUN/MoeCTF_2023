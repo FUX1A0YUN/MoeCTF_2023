{
 "cells": [
  {
   "cell_type": "code",
   "execution_count": 1,
   "metadata": {},
   "outputs": [],
   "source": [
    "import random\n",
    "class LCG:\n",
    "    def set_params(self):\n",
    "        self.m = random.randint(10000, 20000)\n",
    "        self.a = random.randint(10000, 20000)\n",
    "        self.c = random.randint(1, self.a-1)\n",
    "        self.x = random.randint(0, self.m-1)\n",
    "\n",
    "    def get_cycle(self):\n",
    "        x0 = self.x\n",
    "        s = set()\n",
    "        while (t := self()) not in s:\n",
    "            s.add(t)\n",
    "        self.x = x0\n",
    "        return len(s)\n",
    "\n",
    "    def __init__(self):\n",
    "        self.set_params()\n",
    "        while (c := self.get_cycle()) < 100:\n",
    "            self.set_params()\n",
    "\n",
    "    def __call__(self):\n",
    "        self.x = (self.a * self.x + self.c) % self.m\n",
    "        return self.x"
   ]
  },
  {
   "cell_type": "code",
   "execution_count": 2,
   "metadata": {},
   "outputs": [],
   "source": [
    "instance = LCG()"
   ]
  },
  {
   "cell_type": "code",
   "execution_count": 5,
   "metadata": {},
   "outputs": [
    {
     "data": {
      "text/plain": [
       "18855"
      ]
     },
     "execution_count": 5,
     "metadata": {},
     "output_type": "execute_result"
    }
   ],
   "source": [
    "instance.m"
   ]
  },
  {
   "cell_type": "code",
   "execution_count": null,
   "metadata": {},
   "outputs": [],
   "source": []
  },
  {
   "cell_type": "code",
   "execution_count": 1,
   "metadata": {},
   "outputs": [],
   "source": [
    "from math import gcd\n",
    "def gcd_all(*args):\n",
    "    d = args[0]\n",
    "    for i in args[1:]:\n",
    "        d = gcd(d,i)\n",
    "    return d\n",
    "def solve_m(x_):\n",
    "    t_ = [x_[i+1] - x_[i] for i in range(len(x_)-1)] \n",
    "    m_ = [t_[i+1] * t_[i-1] - t_[i] ** 2 for i in range(1,len(t_)-1)]\n",
    "    return gcd_all(*m_)\n",
    "def solve_a(x1,x2,x3,m):\n",
    "    return ((x3-x2) * pow(x2-x1,-1,m))%m\n",
    "def solve_c(x1,x2,a,m):\n",
    "    return (x2-a*x1)%m"
   ]
  },
  {
   "cell_type": "code",
   "execution_count": 2,
   "metadata": {},
   "outputs": [
    {
     "name": "stdout",
     "output_type": "stream",
     "text": [
      "Nmst\n"
     ]
    }
   ],
   "source": [
    "from string import ascii_letters\n",
    "from hashlib import md5\n",
    "from itertools import product\n",
    "target = \"6d184990b5cbddc68bebabeae2c0095e\"\n",
    "salt = \"XXXX+rPxk\"[-4:]\n",
    "for x in product(ascii_letters,repeat=4):\n",
    "    s = \"\".join(x)+salt\n",
    "    h = md5(s.encode()).hexdigest()\n",
    "    if h == target:\n",
    "        print(s[:-4])\n",
    "        break\n"
   ]
  }
 ],
 "metadata": {
  "kernelspec": {
   "display_name": "venv",
   "language": "python",
   "name": "python3"
  },
  "language_info": {
   "codemirror_mode": {
    "name": "ipython",
    "version": 3
   },
   "file_extension": ".py",
   "mimetype": "text/x-python",
   "name": "python",
   "nbconvert_exporter": "python",
   "pygments_lexer": "ipython3",
   "version": "3.11.6"
  },
  "orig_nbformat": 4
 },
 "nbformat": 4,
 "nbformat_minor": 2
}
