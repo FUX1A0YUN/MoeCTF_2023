{
 "cells": [
  {
   "cell_type": "code",
   "execution_count": 44,
   "metadata": {},
   "outputs": [],
   "source": [
    "import random\n",
    "with open(\"flag.txt\", \"rb\") as fs:\n",
    "    flag = fs.read().strip()\n",
    "\n",
    "assert len(flag) == 72\n",
    "m = int.from_bytes(b\"\\xff\"+flag+b\"\\xff\", \"big\")"
   ]
  },
  {
   "cell_type": "code",
   "execution_count": 5,
   "metadata": {},
   "outputs": [],
   "source": [
    "def long2bits(long):\n",
    "    bits = []\n",
    "    while long > 0:\n",
    "        bits.append(long & 1)\n",
    "        long >>= 1\n",
    "    return list(reversed(bits))\n",
    "\n",
    "def bits2long(bits):\n",
    "    long = 0\n",
    "    for bit in bits:\n",
    "        long <<= 1\n",
    "        long |= bit\n",
    "    return long\n"
   ]
  },
  {
   "cell_type": "code",
   "execution_count": 45,
   "metadata": {},
   "outputs": [],
   "source": [
    "def genkey(len):\n",
    "    sum = 0\n",
    "    out = []\n",
    "    for i in range(len):\n",
    "        delta = random.randint(1, 10000)\n",
    "        x = sum + delta\n",
    "        out.append(x)\n",
    "        sum += x\n",
    "    return out\n",
    "\n",
    "\n",
    "key = genkey(74*8)\n",
    "\n",
    "with open(\"key.txt\", \"w\") as fs:\n",
    "    fs.write(str(key))"
   ]
  },
  {
   "cell_type": "code",
   "execution_count": 46,
   "metadata": {},
   "outputs": [],
   "source": [
    "def encrypt(m,keys):\n",
    "    data = long2bits(m)\n",
    "    assert len(data) == len(keys)\n",
    "    return sum((k if (p==1) else 1) for p,k in zip(data,keys))\n"
   ]
  },
  {
   "cell_type": "code",
   "execution_count": 47,
   "metadata": {},
   "outputs": [
    {
     "name": "stdout",
     "output_type": "stream",
     "text": [
      "592 592\n"
     ]
    }
   ],
   "source": [
    "with open(\"ciphertext.txt\", \"w\") as fs:\n",
    "    fs.write(str(encrypt(m,key)))"
   ]
  },
  {
   "cell_type": "code",
   "execution_count": 1,
   "metadata": {},
   "outputs": [],
   "source": [
    "with open(\"key.txt\") as fs:\n",
    "    key = eval(fs.read())\n",
    "with open(\"ciphertext.txt\") as fs:\n",
    "    c = eval(fs.read())"
   ]
  },
  {
   "cell_type": "code",
   "execution_count": 2,
   "metadata": {},
   "outputs": [],
   "source": [
    "def decrypt(c,keys):\n",
    "    bits = []\n",
    "    for k in reversed(keys):\n",
    "        if c >= k:\n",
    "            bits.append(1)\n",
    "            c -= k\n",
    "        else:\n",
    "            bits.append(0)\n",
    "            c-= 1\n",
    "    assert c == 0,c\n",
    "    return list(reversed(bits))"
   ]
  },
  {
   "cell_type": "code",
   "execution_count": 8,
   "metadata": {},
   "outputs": [
    {
     "data": {
      "text/plain": [
       "b'\\xffmoectf{superiNcreasiNg_sequeNce_is_useful_tO_cONstruct_a_KNapsacK_MAxSM}\\xff'"
      ]
     },
     "execution_count": 8,
     "metadata": {},
     "output_type": "execute_result"
    }
   ],
   "source": [
    "bits2long(decrypt(c,key)).to_bytes(74)"
   ]
  },
  {
   "cell_type": "code",
   "execution_count": null,
   "metadata": {},
   "outputs": [],
   "source": []
  }
 ],
 "metadata": {
  "kernelspec": {
   "display_name": "venv",
   "language": "python",
   "name": "python3"
  },
  "language_info": {
   "codemirror_mode": {
    "name": "ipython",
    "version": 3
   },
   "file_extension": ".py",
   "mimetype": "text/x-python",
   "name": "python",
   "nbconvert_exporter": "python",
   "pygments_lexer": "ipython3",
   "version": "3.11.6"
  },
  "orig_nbformat": 4
 },
 "nbformat": 4,
 "nbformat_minor": 2
}
